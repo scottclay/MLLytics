{
 "cells": [
  {
   "cell_type": "code",
   "execution_count": 1,
   "metadata": {},
   "outputs": [],
   "source": [
    "import numpy as np\n",
    "import pandas as pd\n",
    "import matplotlib.pyplot as plt\n",
    "\n",
    "from sklearn.model_selection import train_test_split\n",
    "from sklearn.preprocessing import QuantileTransformer\n",
    "from sklearn.pipeline import make_pipeline\n",
    "\n",
    "from sklearn.inspection import partial_dependence\n",
    "from sklearn.inspection import plot_partial_dependence\n",
    "from sklearn.experimental import enable_hist_gradient_boosting  \n",
    "from sklearn.ensemble import HistGradientBoostingRegressor\n",
    "from sklearn.neural_network import MLPRegressor\n",
    "from sklearn.datasets import fetch_california_housing"
   ]
  },
  {
   "cell_type": "markdown",
   "metadata": {},
   "source": [
    "## MLLytics Packages"
   ]
  },
  {
   "cell_type": "code",
   "execution_count": 2,
   "metadata": {},
   "outputs": [],
   "source": [
    "from MLLytics.interpretation import make_pdp, plot_pdp"
   ]
  },
  {
   "cell_type": "code",
   "execution_count": 4,
   "metadata": {},
   "outputs": [],
   "source": [
    "## R2 score\n",
    "## RSME \n",
    "## Kaggle regression example"
   ]
  },
  {
   "cell_type": "code",
   "execution_count": null,
   "metadata": {},
   "outputs": [],
   "source": []
  },
  {
   "cell_type": "code",
   "execution_count": 5,
   "metadata": {},
   "outputs": [],
   "source": [
    "from sklearn.linear_model import LinearRegression"
   ]
  },
  {
   "cell_type": "markdown",
   "metadata": {},
   "source": [
    "## Some model"
   ]
  },
  {
   "cell_type": "code",
   "execution_count": 7,
   "metadata": {},
   "outputs": [
    {
     "data": {
      "text/plain": [
       "0.609803397808786"
      ]
     },
     "execution_count": 7,
     "metadata": {},
     "output_type": "execute_result"
    }
   ],
   "source": [
    "cal_housing = fetch_california_housing()\n",
    "X = pd.DataFrame(cal_housing.data, columns=cal_housing.feature_names)\n",
    "y = cal_housing.target\n",
    "\n",
    "X_train, X_test, y_train, y_test = train_test_split(X, y, test_size=0.1,random_state=0)\n",
    "\n",
    "lr = LinearRegression()\n",
    "lr.fit(X_train, y_train)\n",
    "lr.score(X_test, y_test)\n"
   ]
  },
  {
   "cell_type": "code",
   "execution_count": 15,
   "metadata": {},
   "outputs": [
    {
     "data": {
      "text/html": [
       "<div>\n",
       "<style scoped>\n",
       "    .dataframe tbody tr th:only-of-type {\n",
       "        vertical-align: middle;\n",
       "    }\n",
       "\n",
       "    .dataframe tbody tr th {\n",
       "        vertical-align: top;\n",
       "    }\n",
       "\n",
       "    .dataframe thead th {\n",
       "        text-align: right;\n",
       "    }\n",
       "</style>\n",
       "<table border=\"1\" class=\"dataframe\">\n",
       "  <thead>\n",
       "    <tr style=\"text-align: right;\">\n",
       "      <th></th>\n",
       "      <th>MedInc</th>\n",
       "      <th>HouseAge</th>\n",
       "      <th>AveRooms</th>\n",
       "      <th>AveBedrms</th>\n",
       "      <th>Population</th>\n",
       "      <th>AveOccup</th>\n",
       "      <th>Latitude</th>\n",
       "      <th>Longitude</th>\n",
       "    </tr>\n",
       "  </thead>\n",
       "  <tbody>\n",
       "    <tr>\n",
       "      <th>2255</th>\n",
       "      <td>3.1250</td>\n",
       "      <td>16.0</td>\n",
       "      <td>5.380071</td>\n",
       "      <td>1.058201</td>\n",
       "      <td>3407.0</td>\n",
       "      <td>3.004409</td>\n",
       "      <td>36.80</td>\n",
       "      <td>-119.83</td>\n",
       "    </tr>\n",
       "    <tr>\n",
       "      <th>17341</th>\n",
       "      <td>2.0508</td>\n",
       "      <td>11.0</td>\n",
       "      <td>4.993884</td>\n",
       "      <td>1.064220</td>\n",
       "      <td>504.0</td>\n",
       "      <td>1.541284</td>\n",
       "      <td>34.86</td>\n",
       "      <td>-120.40</td>\n",
       "    </tr>\n",
       "    <tr>\n",
       "      <th>11589</th>\n",
       "      <td>5.1061</td>\n",
       "      <td>26.0</td>\n",
       "      <td>6.714765</td>\n",
       "      <td>1.013423</td>\n",
       "      <td>836.0</td>\n",
       "      <td>2.805369</td>\n",
       "      <td>33.78</td>\n",
       "      <td>-118.03</td>\n",
       "    </tr>\n",
       "    <tr>\n",
       "      <th>13635</th>\n",
       "      <td>2.3750</td>\n",
       "      <td>38.0</td>\n",
       "      <td>4.307065</td>\n",
       "      <td>0.937500</td>\n",
       "      <td>1347.0</td>\n",
       "      <td>3.660326</td>\n",
       "      <td>34.09</td>\n",
       "      <td>-117.32</td>\n",
       "    </tr>\n",
       "    <tr>\n",
       "      <th>693</th>\n",
       "      <td>2.1552</td>\n",
       "      <td>23.0</td>\n",
       "      <td>3.812641</td>\n",
       "      <td>1.040632</td>\n",
       "      <td>828.0</td>\n",
       "      <td>1.869074</td>\n",
       "      <td>37.70</td>\n",
       "      <td>-122.11</td>\n",
       "    </tr>\n",
       "  </tbody>\n",
       "</table>\n",
       "</div>"
      ],
      "text/plain": [
       "       MedInc  HouseAge  AveRooms  AveBedrms  Population  AveOccup  Latitude  \\\n",
       "2255   3.1250      16.0  5.380071   1.058201      3407.0  3.004409     36.80   \n",
       "17341  2.0508      11.0  4.993884   1.064220       504.0  1.541284     34.86   \n",
       "11589  5.1061      26.0  6.714765   1.013423       836.0  2.805369     33.78   \n",
       "13635  2.3750      38.0  4.307065   0.937500      1347.0  3.660326     34.09   \n",
       "693    2.1552      23.0  3.812641   1.040632       828.0  1.869074     37.70   \n",
       "\n",
       "       Longitude  \n",
       "2255     -119.83  \n",
       "17341    -120.40  \n",
       "11589    -118.03  \n",
       "13635    -117.32  \n",
       "693      -122.11  "
      ]
     },
     "execution_count": 15,
     "metadata": {},
     "output_type": "execute_result"
    }
   ],
   "source": [
    "X_train.head()"
   ]
  },
  {
   "cell_type": "code",
   "execution_count": 16,
   "metadata": {},
   "outputs": [],
   "source": [
    "cols = X_train.columns.to_list()"
   ]
  },
  {
   "cell_type": "code",
   "execution_count": 17,
   "metadata": {},
   "outputs": [],
   "source": [
    "coeffs = lr.coef_"
   ]
  },
  {
   "cell_type": "code",
   "execution_count": 23,
   "metadata": {},
   "outputs": [
    {
     "data": {
      "text/plain": [
       "array([ 4.34709620e-01,  9.41471781e-03, -1.03371675e-01,  6.22951006e-01,\n",
       "       -5.44301549e-06, -5.29435862e-03, -4.19573263e-01, -4.32535175e-01])"
      ]
     },
     "execution_count": 23,
     "metadata": {},
     "output_type": "execute_result"
    }
   ],
   "source": [
    "coeffs"
   ]
  },
  {
   "cell_type": "code",
   "execution_count": 20,
   "metadata": {},
   "outputs": [
    {
     "data": {
      "text/plain": [
       "array([0, 1, 2, 3, 4, 5, 6, 7])"
      ]
     },
     "execution_count": 20,
     "metadata": {},
     "output_type": "execute_result"
    }
   ],
   "source": [
    "np.arange(len(coeffs))"
   ]
  },
  {
   "cell_type": "code",
   "execution_count": null,
   "metadata": {},
   "outputs": [],
   "source": []
  },
  {
   "cell_type": "code",
   "execution_count": 63,
   "metadata": {},
   "outputs": [
    {
     "data": {
      "image/png": "[encoded data removed]",
      "text/plain": [
       "<Figure size 504x504 with 1 Axes>"
      ]
     },
     "metadata": {
      "needs_background": "light"
     },
     "output_type": "display_data"
    }
   ],
   "source": [
    "fig, axs = plt.subplots(nrows=1, ncols=1, figsize=(7, 7))\n",
    "axs.scatter(coeffs, np.arange(len(coeffs))+1)\n",
    "axs.set_ylim(0.5,8.5)\n",
    "axs.set_yticklabels(['']+cols)\n",
    "axs.axvline(0.0, 0, 1, linestyle='--', color='k')\n",
    "\n",
    "axs.set_ylabel('Y')\n",
    "axs.set_xlabel('X')\n",
    "axs.set_title('Title')\n",
    "\n",
    "plt.show()"
   ]
  },
  {
   "cell_type": "code",
   "execution_count": 72,
   "metadata": {},
   "outputs": [
    {
     "data": {
      "text/plain": [
       "array([ 4.34709620e-01,  9.41471781e-03, -1.03371675e-01,  6.22951006e-01,\n",
       "       -5.44301549e-06, -5.29435862e-03, -4.19573263e-01, -4.32535175e-01])"
      ]
     },
     "execution_count": 72,
     "metadata": {},
     "output_type": "execute_result"
    }
   ],
   "source": [
    "coeffs"
   ]
  },
  {
   "cell_type": "code",
   "execution_count": 74,
   "metadata": {},
   "outputs": [
    {
     "data": {
      "text/plain": [
       "['MedInc',\n",
       " 'HouseAge',\n",
       " 'AveRooms',\n",
       " 'AveBedrms',\n",
       " 'Population',\n",
       " 'AveOccup',\n",
       " 'Latitude',\n",
       " 'Longitude']"
      ]
     },
     "execution_count": 74,
     "metadata": {},
     "output_type": "execute_result"
    }
   ],
   "source": [
    "cols"
   ]
  },
  {
   "cell_type": "code",
   "execution_count": null,
   "metadata": {},
   "outputs": [],
   "source": []
  },
  {
   "cell_type": "code",
   "execution_count": 75,
   "metadata": {},
   "outputs": [
    {
     "data": {
      "text/html": [
       "<div>\n",
       "<style scoped>\n",
       "    .dataframe tbody tr th:only-of-type {\n",
       "        vertical-align: middle;\n",
       "    }\n",
       "\n",
       "    .dataframe tbody tr th {\n",
       "        vertical-align: top;\n",
       "    }\n",
       "\n",
       "    .dataframe thead th {\n",
       "        text-align: right;\n",
       "    }\n",
       "</style>\n",
       "<table border=\"1\" class=\"dataframe\">\n",
       "  <thead>\n",
       "    <tr style=\"text-align: right;\">\n",
       "      <th></th>\n",
       "      <th>MedInc</th>\n",
       "      <th>HouseAge</th>\n",
       "      <th>AveRooms</th>\n",
       "      <th>AveBedrms</th>\n",
       "      <th>Population</th>\n",
       "      <th>AveOccup</th>\n",
       "      <th>Latitude</th>\n",
       "      <th>Longitude</th>\n",
       "    </tr>\n",
       "  </thead>\n",
       "  <tbody>\n",
       "    <tr>\n",
       "      <th>2255</th>\n",
       "      <td>1.358468</td>\n",
       "      <td>0.150635</td>\n",
       "      <td>-0.556147</td>\n",
       "      <td>0.659207</td>\n",
       "      <td>-0.018544</td>\n",
       "      <td>-0.015906</td>\n",
       "      <td>-15.440296</td>\n",
       "      <td>51.830690</td>\n",
       "    </tr>\n",
       "    <tr>\n",
       "      <th>17341</th>\n",
       "      <td>0.891502</td>\n",
       "      <td>0.103562</td>\n",
       "      <td>-0.516226</td>\n",
       "      <td>0.662957</td>\n",
       "      <td>-0.002743</td>\n",
       "      <td>-0.008160</td>\n",
       "      <td>-14.626324</td>\n",
       "      <td>52.077235</td>\n",
       "    </tr>\n",
       "    <tr>\n",
       "      <th>11589</th>\n",
       "      <td>2.219671</td>\n",
       "      <td>0.244783</td>\n",
       "      <td>-0.694117</td>\n",
       "      <td>0.631313</td>\n",
       "      <td>-0.004550</td>\n",
       "      <td>-0.014853</td>\n",
       "      <td>-14.173185</td>\n",
       "      <td>51.052127</td>\n",
       "    </tr>\n",
       "    <tr>\n",
       "      <th>13635</th>\n",
       "      <td>1.032435</td>\n",
       "      <td>0.357759</td>\n",
       "      <td>-0.445229</td>\n",
       "      <td>0.584017</td>\n",
       "      <td>-0.007332</td>\n",
       "      <td>-0.019379</td>\n",
       "      <td>-14.303253</td>\n",
       "      <td>50.745027</td>\n",
       "    </tr>\n",
       "    <tr>\n",
       "      <th>693</th>\n",
       "      <td>0.936886</td>\n",
       "      <td>0.216539</td>\n",
       "      <td>-0.394119</td>\n",
       "      <td>0.648263</td>\n",
       "      <td>-0.004507</td>\n",
       "      <td>-0.009896</td>\n",
       "      <td>-15.817912</td>\n",
       "      <td>52.816870</td>\n",
       "    </tr>\n",
       "  </tbody>\n",
       "</table>\n",
       "</div>"
      ],
      "text/plain": [
       "         MedInc  HouseAge  AveRooms  AveBedrms  Population  AveOccup  \\\n",
       "2255   1.358468  0.150635 -0.556147   0.659207   -0.018544 -0.015906   \n",
       "17341  0.891502  0.103562 -0.516226   0.662957   -0.002743 -0.008160   \n",
       "11589  2.219671  0.244783 -0.694117   0.631313   -0.004550 -0.014853   \n",
       "13635  1.032435  0.357759 -0.445229   0.584017   -0.007332 -0.019379   \n",
       "693    0.936886  0.216539 -0.394119   0.648263   -0.004507 -0.009896   \n",
       "\n",
       "        Latitude  Longitude  \n",
       "2255  -15.440296  51.830690  \n",
       "17341 -14.626324  52.077235  \n",
       "11589 -14.173185  51.052127  \n",
       "13635 -14.303253  50.745027  \n",
       "693   -15.817912  52.816870  "
      ]
     },
     "execution_count": 75,
     "metadata": {},
     "output_type": "execute_result"
    }
   ],
   "source": [
    "X_coeffs = X_train.copy()\n",
    "\n",
    "X_coeffs.MedInc *= coeffs[0]\n",
    "X_coeffs.HouseAge *= coeffs[1]\n",
    "X_coeffs.AveRooms *= coeffs[2]\n",
    "X_coeffs.AveBedrms *= coeffs[3]\n",
    "X_coeffs.Population *= coeffs[4]\n",
    "X_coeffs.AveOccup *= coeffs[5]\n",
    "X_coeffs.Latitude *= coeffs[6]\n",
    "X_coeffs.Longitude *= coeffs[7]\n",
    "\n",
    "X_coeffs.head()"
   ]
  },
  {
   "cell_type": "code",
   "execution_count": null,
   "metadata": {},
   "outputs": [],
   "source": []
  },
  {
   "cell_type": "code",
   "execution_count": 89,
   "metadata": {},
   "outputs": [],
   "source": [
    "import matplotlib.cbook as cbook\n",
    "\n",
    "stats = cbook.boxplot_stats(X_coeffs.values, labels=X_coeffs.columns.to_list())#, bootstrap=10000)"
   ]
  },
  {
   "cell_type": "code",
   "execution_count": null,
   "metadata": {},
   "outputs": [],
   "source": []
  },
  {
   "cell_type": "code",
   "execution_count": null,
   "metadata": {},
   "outputs": [],
   "source": []
  },
  {
   "cell_type": "code",
   "execution_count": 106,
   "metadata": {},
   "outputs": [
    {
     "data": {
      "text/plain": [
       "array([ 1.35846756e+00,  1.50635485e-01, -5.56146902e-01,  6.59207414e-01,\n",
       "       -1.85443538e-02, -1.59064196e-02, -1.54402961e+01,  5.18306900e+01])"
      ]
     },
     "execution_count": 106,
     "metadata": {},
     "output_type": "execute_result"
    }
   ],
   "source": [
    "X1 = X_coeffs.iloc[0].values\n",
    "X1"
   ]
  },
  {
   "cell_type": "code",
   "execution_count": 114,
   "metadata": {},
   "outputs": [
    {
     "data": {
      "text/plain": [
       "<matplotlib.collections.PathCollection at 0x7fe57cf43d90>"
      ]
     },
     "execution_count": 114,
     "metadata": {},
     "output_type": "execute_result"
    },
    {
     "data": {
      "image/png": "[encoded data removed]",
      "text/plain": [
       "<Figure size 504x504 with 1 Axes>"
      ]
     },
     "metadata": {
      "needs_background": "light"
     },
     "output_type": "display_data"
    }
   ],
   "source": [
    "fs=10\n",
    "fig, axs = plt.subplots(nrows=1, ncols=1, figsize=(7, 7), sharey=True)\n",
    "axs.bxp(stats)\n",
    "axs.set_title('Default', fontsize=fs)\n",
    "\n",
    "\n",
    "\n",
    "plt.xticks(rotation=70)\n",
    "\n",
    "#axs.set_yscale('log')\n",
    "#axs.set_xticklabels(['A', 'B', 'C', 'Bla'])\n",
    "\n",
    "plt.scatter(1, X1[0], color='red', marker='x', zorder=100)\n",
    "plt.scatter(2, X1[1], color='red', marker='x', zorder=100)\n",
    "plt.scatter(3, X1[2], color='red', marker='x', zorder=100)\n",
    "plt.scatter(4, X1[3], color='red', marker='x', zorder=100)\n",
    "plt.scatter(5, X1[4], color='red', marker='x', zorder=100)\n",
    "plt.scatter(6, X1[5], color='red', marker='x', zorder=100)\n",
    "plt.scatter(7, X1[6], color='red', marker='x', zorder=100)\n",
    "plt.scatter(8, X1[7], color='red', marker='x', zorder=100)"
   ]
  },
  {
   "cell_type": "code",
   "execution_count": null,
   "metadata": {},
   "outputs": [],
   "source": []
  },
  {
   "cell_type": "code",
   "execution_count": 116,
   "metadata": {},
   "outputs": [
    {
     "data": {
      "text/plain": [
       "array([1.369, 2.413, 2.007, ..., 2.379, 2.451, 1.635])"
      ]
     },
     "execution_count": 116,
     "metadata": {},
     "output_type": "execute_result"
    }
   ],
   "source": [
    "y_test"
   ]
  },
  {
   "cell_type": "code",
   "execution_count": 119,
   "metadata": {},
   "outputs": [
    {
     "data": {
      "text/plain": [
       "array([2.27471227, 2.78176818, 1.89960405, ..., 2.63191013, 2.44479523,\n",
       "       1.3824136 ])"
      ]
     },
     "execution_count": 119,
     "metadata": {},
     "output_type": "execute_result"
    }
   ],
   "source": [
    "y_pred = lr.predict(X_test)\n",
    "y_pred"
   ]
  },
  {
   "cell_type": "code",
   "execution_count": 127,
   "metadata": {},
   "outputs": [
    {
     "data": {
      "text/plain": [
       "Text(0, 0.5, 'Y')"
      ]
     },
     "execution_count": 127,
     "metadata": {},
     "output_type": "execute_result"
    },
    {
     "data": {
      "image/png": "[encoded data removed]",
      "text/plain": [
       "<Figure size 504x504 with 1 Axes>"
      ]
     },
     "metadata": {
      "needs_background": "light"
     },
     "output_type": "display_data"
    }
   ],
   "source": [
    "plt.figure(figsize=(7,7))\n",
    "plt.scatter(y_test, y_pred)\n",
    "plt.plot([0,6], [0,6], color='k', linestyle='--')\n",
    "plt.xlabel('X')\n",
    "plt.ylabel('Y')"
   ]
  },
  {
   "cell_type": "code",
   "execution_count": null,
   "metadata": {},
   "outputs": [],
   "source": []
  },
  {
   "cell_type": "code",
   "execution_count": null,
   "metadata": {},
   "outputs": [],
   "source": []
  },
  {
   "cell_type": "code",
   "execution_count": null,
   "metadata": {},
   "outputs": [],
   "source": []
  },
  {
   "cell_type": "code",
   "execution_count": 132,
   "metadata": {},
   "outputs": [
    {
     "data": {
      "text/plain": [
       "MedInc          1.064875\n",
       "HouseAge        4.000000\n",
       "AveRooms        2.581251\n",
       "AveBedrms       0.870278\n",
       "Population     88.000000\n",
       "AveOccup        1.537734\n",
       "Latitude       32.680000\n",
       "Longitude    -123.210000\n",
       "Name: 0.01, dtype: float64"
      ]
     },
     "execution_count": 132,
     "metadata": {},
     "output_type": "execute_result"
    }
   ],
   "source": [
    "X_train.quantile(0.01)"
   ]
  },
  {
   "cell_type": "code",
   "execution_count": 130,
   "metadata": {},
   "outputs": [
    {
     "data": {
      "text/plain": [
       "2255     3.1250\n",
       "17341    2.0508\n",
       "11589    5.1061\n",
       "13635    2.3750\n",
       "693      2.1552\n",
       "          ...  \n",
       "13123    4.4125\n",
       "19648    2.9135\n",
       "9845     3.1977\n",
       "10799    5.6315\n",
       "2732     1.3882\n",
       "Name: MedInc, Length: 18576, dtype: float64"
      ]
     },
     "execution_count": 130,
     "metadata": {},
     "output_type": "execute_result"
    }
   ],
   "source": [
    "X_train.MedInc"
   ]
  },
  {
   "cell_type": "code",
   "execution_count": null,
   "metadata": {},
   "outputs": [],
   "source": []
  },
  {
   "cell_type": "code",
   "execution_count": null,
   "metadata": {},
   "outputs": [],
   "source": []
  },
  {
   "cell_type": "code",
   "execution_count": 129,
   "metadata": {},
   "outputs": [
    {
     "data": {
      "text/html": [
       "<div>\n",
       "<style scoped>\n",
       "    .dataframe tbody tr th:only-of-type {\n",
       "        vertical-align: middle;\n",
       "    }\n",
       "\n",
       "    .dataframe tbody tr th {\n",
       "        vertical-align: top;\n",
       "    }\n",
       "\n",
       "    .dataframe thead th {\n",
       "        text-align: right;\n",
       "    }\n",
       "</style>\n",
       "<table border=\"1\" class=\"dataframe\">\n",
       "  <thead>\n",
       "    <tr style=\"text-align: right;\">\n",
       "      <th></th>\n",
       "      <th>MedInc</th>\n",
       "      <th>HouseAge</th>\n",
       "      <th>AveRooms</th>\n",
       "      <th>AveBedrms</th>\n",
       "      <th>Population</th>\n",
       "      <th>AveOccup</th>\n",
       "      <th>Latitude</th>\n",
       "      <th>Longitude</th>\n",
       "    </tr>\n",
       "  </thead>\n",
       "  <tbody>\n",
       "    <tr>\n",
       "      <th>1780</th>\n",
       "      <td>1.5139</td>\n",
       "      <td>38.0</td>\n",
       "      <td>3.727273</td>\n",
       "      <td>0.867133</td>\n",
       "      <td>729.0</td>\n",
       "      <td>2.548951</td>\n",
       "      <td>37.95</td>\n",
       "      <td>-122.36</td>\n",
       "    </tr>\n",
       "    <tr>\n",
       "      <th>19545</th>\n",
       "      <td>1.7054</td>\n",
       "      <td>39.0</td>\n",
       "      <td>3.900826</td>\n",
       "      <td>1.003306</td>\n",
       "      <td>2047.0</td>\n",
       "      <td>3.383471</td>\n",
       "      <td>37.63</td>\n",
       "      <td>-120.97</td>\n",
       "    </tr>\n",
       "    <tr>\n",
       "      <th>4623</th>\n",
       "      <td>0.8804</td>\n",
       "      <td>36.0</td>\n",
       "      <td>2.713235</td>\n",
       "      <td>1.080882</td>\n",
       "      <td>145.0</td>\n",
       "      <td>1.066176</td>\n",
       "      <td>34.06</td>\n",
       "      <td>-118.31</td>\n",
       "    </tr>\n",
       "    <tr>\n",
       "      <th>16276</th>\n",
       "      <td>1.4583</td>\n",
       "      <td>33.0</td>\n",
       "      <td>3.586735</td>\n",
       "      <td>0.903061</td>\n",
       "      <td>2248.0</td>\n",
       "      <td>3.823129</td>\n",
       "      <td>37.93</td>\n",
       "      <td>-121.26</td>\n",
       "    </tr>\n",
       "    <tr>\n",
       "      <th>4487</th>\n",
       "      <td>1.6667</td>\n",
       "      <td>46.0</td>\n",
       "      <td>3.445902</td>\n",
       "      <td>0.990164</td>\n",
       "      <td>1435.0</td>\n",
       "      <td>4.704918</td>\n",
       "      <td>34.05</td>\n",
       "      <td>-118.19</td>\n",
       "    </tr>\n",
       "    <tr>\n",
       "      <th>...</th>\n",
       "      <td>...</td>\n",
       "      <td>...</td>\n",
       "      <td>...</td>\n",
       "      <td>...</td>\n",
       "      <td>...</td>\n",
       "      <td>...</td>\n",
       "      <td>...</td>\n",
       "      <td>...</td>\n",
       "    </tr>\n",
       "    <tr>\n",
       "      <th>14312</th>\n",
       "      <td>1.6023</td>\n",
       "      <td>32.0</td>\n",
       "      <td>3.878788</td>\n",
       "      <td>1.069697</td>\n",
       "      <td>1335.0</td>\n",
       "      <td>4.045455</td>\n",
       "      <td>32.70</td>\n",
       "      <td>-117.14</td>\n",
       "    </tr>\n",
       "    <tr>\n",
       "      <th>14324</th>\n",
       "      <td>1.2292</td>\n",
       "      <td>52.0</td>\n",
       "      <td>2.340136</td>\n",
       "      <td>1.204082</td>\n",
       "      <td>460.0</td>\n",
       "      <td>3.129252</td>\n",
       "      <td>32.72</td>\n",
       "      <td>-117.15</td>\n",
       "    </tr>\n",
       "    <tr>\n",
       "      <th>12676</th>\n",
       "      <td>1.3571</td>\n",
       "      <td>21.0</td>\n",
       "      <td>2.814714</td>\n",
       "      <td>1.019074</td>\n",
       "      <td>2548.0</td>\n",
       "      <td>3.471390</td>\n",
       "      <td>38.56</td>\n",
       "      <td>-121.42</td>\n",
       "    </tr>\n",
       "    <tr>\n",
       "      <th>2897</th>\n",
       "      <td>1.1944</td>\n",
       "      <td>44.0</td>\n",
       "      <td>5.046512</td>\n",
       "      <td>1.279070</td>\n",
       "      <td>274.0</td>\n",
       "      <td>3.186047</td>\n",
       "      <td>35.38</td>\n",
       "      <td>-119.01</td>\n",
       "    </tr>\n",
       "    <tr>\n",
       "      <th>2732</th>\n",
       "      <td>1.3882</td>\n",
       "      <td>15.0</td>\n",
       "      <td>3.929530</td>\n",
       "      <td>1.100671</td>\n",
       "      <td>1024.0</td>\n",
       "      <td>3.436242</td>\n",
       "      <td>32.80</td>\n",
       "      <td>-115.56</td>\n",
       "    </tr>\n",
       "  </tbody>\n",
       "</table>\n",
       "<p>1859 rows × 8 columns</p>\n",
       "</div>"
      ],
      "text/plain": [
       "       MedInc  HouseAge  AveRooms  AveBedrms  Population  AveOccup  Latitude  \\\n",
       "1780   1.5139      38.0  3.727273   0.867133       729.0  2.548951     37.95   \n",
       "19545  1.7054      39.0  3.900826   1.003306      2047.0  3.383471     37.63   \n",
       "4623   0.8804      36.0  2.713235   1.080882       145.0  1.066176     34.06   \n",
       "16276  1.4583      33.0  3.586735   0.903061      2248.0  3.823129     37.93   \n",
       "4487   1.6667      46.0  3.445902   0.990164      1435.0  4.704918     34.05   \n",
       "...       ...       ...       ...        ...         ...       ...       ...   \n",
       "14312  1.6023      32.0  3.878788   1.069697      1335.0  4.045455     32.70   \n",
       "14324  1.2292      52.0  2.340136   1.204082       460.0  3.129252     32.72   \n",
       "12676  1.3571      21.0  2.814714   1.019074      2548.0  3.471390     38.56   \n",
       "2897   1.1944      44.0  5.046512   1.279070       274.0  3.186047     35.38   \n",
       "2732   1.3882      15.0  3.929530   1.100671      1024.0  3.436242     32.80   \n",
       "\n",
       "       Longitude  \n",
       "1780     -122.36  \n",
       "19545    -120.97  \n",
       "4623     -118.31  \n",
       "16276    -121.26  \n",
       "4487     -118.19  \n",
       "...          ...  \n",
       "14312    -117.14  \n",
       "14324    -117.15  \n",
       "12676    -121.42  \n",
       "2897     -119.01  \n",
       "2732     -115.56  \n",
       "\n",
       "[1859 rows x 8 columns]"
      ]
     },
     "execution_count": 129,
     "metadata": {},
     "output_type": "execute_result"
    }
   ],
   "source": [
    "X_train[X_train.MedInc <= 1.903800]"
   ]
  },
  {
   "cell_type": "code",
   "execution_count": null,
   "metadata": {},
   "outputs": [],
   "source": []
  }
 ],
 "metadata": {
  "kernelspec": {
   "display_name": "Python 3",
   "language": "python",
   "name": "python3"
  },
  "language_info": {
   "codemirror_mode": {
    "name": "ipython",
    "version": 3
   },
   "file_extension": ".py",
   "mimetype": "text/x-python",
   "name": "python",
   "nbconvert_exporter": "python",
   "pygments_lexer": "ipython3",
   "version": "3.6.9"
  }
 },
 "nbformat": 4,
 "nbformat_minor": 4
}
